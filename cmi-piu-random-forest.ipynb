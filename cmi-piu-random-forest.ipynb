{
 "cells": [
  {
   "cell_type": "markdown",
   "id": "df5db263",
   "metadata": {
    "papermill": {
     "duration": 0.002448,
     "end_time": "2024-12-17T15:05:24.062459",
     "exception": false,
     "start_time": "2024-12-17T15:05:24.060011",
     "status": "completed"
    },
    "tags": []
   },
   "source": [
    "# Phụ\n"
   ]
  },
  {
   "cell_type": "code",
   "execution_count": 1,
   "id": "b91c7eef",
   "metadata": {
    "execution": {
     "iopub.execute_input": "2024-12-17T15:05:24.068552Z",
     "iopub.status.busy": "2024-12-17T15:05:24.068169Z",
     "iopub.status.idle": "2024-12-17T15:05:27.234294Z",
     "shell.execute_reply": "2024-12-17T15:05:27.233015Z"
    },
    "papermill": {
     "duration": 3.171981,
     "end_time": "2024-12-17T15:05:27.236861",
     "exception": false,
     "start_time": "2024-12-17T15:05:24.064880",
     "status": "completed"
    },
    "tags": []
   },
   "outputs": [
    {
     "name": "stdout",
     "output_type": "stream",
     "text": [
      "sii\n",
      "0.0    0.582602\n",
      "1.0    0.266813\n",
      "2.0    0.138158\n",
      "3.0    0.012427\n",
      "Name: proportion, dtype: float64\n"
     ]
    }
   ],
   "source": [
    "import pandas as pd\n",
    "import numpy as np\n",
    "import matplotlib.pyplot as plt\n",
    "import matplotlib.gridspec as gridspec\n",
    "import seaborn as sns\n",
    "import warnings\n",
    "import polars as pl\n",
    "warnings.filterwarnings('ignore', category=FutureWarning)\n",
    "\n",
    "sns.set(style=\"whitegrid\")\n",
    "%matplotlib inline\n",
    "\n",
    "train = pd.read_csv('/kaggle/input/child-mind-institute-problematic-internet-use/train.csv')\n",
    "test = pd.read_csv('/kaggle/input/child-mind-institute-problematic-internet-use/test.csv')\n",
    "\n",
    "# Kiểm tra phân phối nhãn\n",
    "print(train['sii'].value_counts(normalize=True))"
   ]
  },
  {
   "cell_type": "markdown",
   "id": "fc220ab2",
   "metadata": {
    "papermill": {
     "duration": 0.001701,
     "end_time": "2024-12-17T15:05:27.240666",
     "exception": false,
     "start_time": "2024-12-17T15:05:27.238965",
     "status": "completed"
    },
    "tags": []
   },
   "source": [
    "# Random Forest V3\n",
    "\n",
    "* Sử dụng Bayesian Optimization thay vì RandomizedSearch cho HyperparameterstunningHyperparameterstunning"
   ]
  },
  {
   "cell_type": "code",
   "execution_count": 2,
   "id": "d3bf1747",
   "metadata": {
    "execution": {
     "iopub.execute_input": "2024-12-17T15:05:27.246052Z",
     "iopub.status.busy": "2024-12-17T15:05:27.245677Z",
     "iopub.status.idle": "2024-12-17T15:32:00.951271Z",
     "shell.execute_reply": "2024-12-17T15:32:00.949804Z"
    },
    "papermill": {
     "duration": 1593.711154,
     "end_time": "2024-12-17T15:32:00.953627",
     "exception": false,
     "start_time": "2024-12-17T15:05:27.242473",
     "status": "completed"
    },
    "tags": []
   },
   "outputs": [
    {
     "name": "stdout",
     "output_type": "stream",
     "text": [
      "Total training time for Random Search: 1579.91 seconds\n",
      "\n",
      "Best parameters: OrderedDict([('classifier__bootstrap', False), ('classifier__criterion', 'gini'), ('classifier__max_depth', 15), ('classifier__max_features', None), ('classifier__min_samples_leaf', 10), ('classifier__min_samples_split', 15), ('classifier__n_estimators', 181)])\n",
      "Best cross-validation score: 0.6695477977586577\n"
     ]
    }
   ],
   "source": [
    "import pandas as pd\n",
    "import numpy as np\n",
    "import warnings\n",
    "from sklearn.ensemble import RandomForestClassifier\n",
    "from sklearn.model_selection import GridSearchCV, KFold , RandomizedSearchCV\n",
    "from sklearn.preprocessing import OrdinalEncoder, StandardScaler\n",
    "from sklearn.impute import SimpleImputer\n",
    "from sklearn.compose import ColumnTransformer\n",
    "from sklearn.pipeline import Pipeline\n",
    "from scipy.stats import randint, uniform\n",
    "import time\n",
    "from skopt import BayesSearchCV\n",
    "from skopt.space import Real, Categorical, Integer\n",
    "\n",
    "# Tắt cảnh báo\n",
    "warnings.filterwarnings('ignore', category=FutureWarning)\n",
    "\n",
    "# Đọc dữ liệu\n",
    "train = pd.read_csv('/kaggle/input/child-mind-institute-problematic-internet-use/train.csv')\n",
    "test = pd.read_csv('/kaggle/input/child-mind-institute-problematic-internet-use/test.csv')\n",
    "\n",
    "#Sử dụng SimpleImputer cho cột 'sii' \n",
    "sii_imputer = SimpleImputer(strategy='median')\n",
    "train['sii'] = sii_imputer.fit_transform(train[['sii']])\n",
    "\n",
    "# Chuyển đổi sang integer\n",
    "train['sii'] = train['sii'].astype(int)\n",
    "\n",
    "# Bỏ các cột sii, id và cả PCIAT_PCIAT_*\n",
    "X = train.drop(columns=['sii', 'id'] + [col for col in train.columns if 'PCIAT' in col])\n",
    "y = train['sii']\n",
    "\n",
    "# Xác định các loại cột\n",
    "numeric_features = X.select_dtypes(include=['int64', 'float64']).columns\n",
    "categorical_features = X.select_dtypes(include=['object']).columns\n",
    "\n",
    "# Tạo preprocessor - Xử lý missing value\n",
    "preprocessor = ColumnTransformer(\n",
    "    transformers=[\n",
    "\n",
    "        # Với dữ liệu loại số: Lấy giá trị trung bình của các row lân cận\n",
    "        ('num', Pipeline([\n",
    "            ('imputer', SimpleImputer(strategy='median')),\n",
    "            ('scaler', StandardScaler())\n",
    "        ]), numeric_features),\n",
    "\n",
    "        # Với dữ liệu loại categorical: Lấy theo tần số xuất hiện nhiều nhất và encode có thành số ví dụ 0,1,...\n",
    "        ('cat', Pipeline([\n",
    "            ('imputer', SimpleImputer(strategy='most_frequent')),\n",
    "            ('encoder', OrdinalEncoder(handle_unknown='use_encoded_value', unknown_value=-1))\n",
    "        ]), categorical_features)\n",
    "    ])\n",
    "\n",
    "# Tạo pipeline với preprocessor\n",
    "pipeline = Pipeline([\n",
    "    ('preprocessor', preprocessor),\n",
    "    ('classifier', RandomForestClassifier(random_state=42))\n",
    "])\n",
    "\n",
    "# Định nghĩa Bayesian search space\n",
    "search_spaces = {\n",
    "    'classifier__n_estimators': Integer(50, 500),\n",
    "    'classifier__max_depth': Categorical([None] + list(range(10, 50, 5))),\n",
    "    'classifier__min_samples_split': Integer(2, 20),\n",
    "    'classifier__min_samples_leaf': Integer(1, 10),\n",
    "    'classifier__max_features': Categorical(['sqrt', 'log2', None]),\n",
    "    'classifier__criterion': Categorical(['gini', 'entropy']),\n",
    "    'classifier__bootstrap': Categorical([True, False])\n",
    "}\n",
    "\n",
    "# Thiết lập K-Fold Cross Validation\n",
    "kfold = KFold(n_splits=5, shuffle=True, random_state=42)\n",
    "\n",
    "start_time = time.time()\n",
    "\n",
    "# Thực hiện Bayesian Search\n",
    "bayes_search = BayesSearchCV(\n",
    "    estimator=pipeline,\n",
    "    search_spaces=search_spaces,\n",
    "    n_iter=50,  # Số lượng cấu hình để thử\n",
    "    cv=kfold,\n",
    "    n_jobs=-1,\n",
    "    verbose=0,\n",
    "    scoring='f1_weighted'\n",
    ")\n",
    "\n",
    "bayes_search.fit(X, y)\n",
    "\n",
    "end_time = time.time()\n",
    "#In ra tổng thời gian tìm parameter phù hợp\n",
    "print(f\"Total training time for Random Search: {end_time - start_time:.2f} seconds\")\n",
    "\n",
    "print(\"\\nBest parameters:\", bayes_search.best_params_)\n",
    "print(\"Best cross-validation score:\", bayes_search.best_score_)\n",
    "\n",
    "# Lấy mô hình tốt nhất từ Random Search\n",
    "final_model = bayes_search.best_estimator_\n",
    "\n",
    "# HUẤN LUYỆN LẠI TRÊN TOÀN BỘ TẬP DỮ LIỆU\n",
    "final_model.fit(X, y)\n",
    "\n",
    "# Chuẩn bị dữ liệu test\n",
    "test_X = test.drop(columns=['id'] + [col for col in test.columns if 'PCIAT' in col])\n",
    "\n",
    "# Dự đoán trên tập dữ liệu test\n",
    "test_predictions = final_model.predict(test_X)\n",
    "\n",
    "# Tạo tệp submission\n",
    "submission = pd.DataFrame({\n",
    "    'id': test['id'],\n",
    "    'sii': test_predictions\n",
    "})\n",
    "\n",
    "submission.to_csv('submission.csv', index=False)\n",
    "# submission\n"
   ]
  }
 ],
 "metadata": {
  "kaggle": {
   "accelerator": "none",
   "dataSources": [
    {
     "databundleVersionId": 9643020,
     "sourceId": 81933,
     "sourceType": "competition"
    }
   ],
   "dockerImageVersionId": 30761,
   "isGpuEnabled": false,
   "isInternetEnabled": false,
   "language": "python",
   "sourceType": "notebook"
  },
  "kernelspec": {
   "display_name": "Python 3",
   "language": "python",
   "name": "python3"
  },
  "language_info": {
   "codemirror_mode": {
    "name": "ipython",
    "version": 3
   },
   "file_extension": ".py",
   "mimetype": "text/x-python",
   "name": "python",
   "nbconvert_exporter": "python",
   "pygments_lexer": "ipython3",
   "version": "3.10.14"
  },
  "papermill": {
   "default_parameters": {},
   "duration": 1602.338137,
   "end_time": "2024-12-17T15:32:03.577117",
   "environment_variables": {},
   "exception": null,
   "input_path": "__notebook__.ipynb",
   "output_path": "__notebook__.ipynb",
   "parameters": {},
   "start_time": "2024-12-17T15:05:21.238980",
   "version": "2.6.0"
  }
 },
 "nbformat": 4,
 "nbformat_minor": 5
}
